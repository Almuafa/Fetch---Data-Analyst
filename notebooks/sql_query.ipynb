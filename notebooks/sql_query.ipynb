{
 "cells": [
  {
   "cell_type": "code",
   "execution_count": 2,
   "metadata": {},
   "outputs": [],
   "source": [
    "# Load Data into a SQL Database"
   ]
  },
  {
   "cell_type": "code",
   "execution_count": 2,
   "metadata": {},
   "outputs": [
    {
     "name": "stdout",
     "output_type": "stream",
     "text": [
      "Data successfully loaded into SQLite database.\n",
      "Products table contains 845337 records.\n",
      "Transactions table contains 49829 records.\n",
      "Users table contains 100000 records.\n"
     ]
    }
   ],
   "source": [
    "# Before writing SQL queries, we need to load the cleaned CSV files into a SQLite database. \n",
    "# You can do this using SQLite (a lightweight database).\n",
    "\n",
    "# Here’s how to load data into SQLite using Python:\n",
    "import sqlite3\n",
    "import pandas as pd\n",
    "import os\n",
    "\n",
    "# Connect to SQLite database (or create one if it doesn't exist)\n",
    "try:\n",
    "    conn = sqlite3.connect(\"fetch_data.db\")\n",
    "    cursor = conn.cursor()\n",
    "except sqlite3.Error as e:\n",
    "    print(f\"Error connecting to SQLite: {e}\")\n",
    "    exit(1)\n",
    "\n",
    "# File paths\n",
    "products_file = r\"c:\\Users\\al_mu\\GitHub\\Fetch\\Fetch---Data-Analyst\\data\\cleansed\\products_cleaned.csv\"\n",
    "transactions_file = r\"c:\\Users\\al_mu\\GitHub\\Fetch\\Fetch---Data-Analyst\\data\\cleansed\\transactions_cleaned.csv\"\n",
    "users_file = r\"c:\\Users\\al_mu\\GitHub\\Fetch\\Fetch---Data-Analyst\\data\\cleansed\\users_cleaned.csv\"\n",
    "\n",
    "# Check if files exist\n",
    "if not os.path.exists(products_file):\n",
    "    print(f\"Error: {products_file} does not exist.\")\n",
    "elif not os.path.exists(transactions_file):\n",
    "    print(f\"Error: {transactions_file} does not exist.\")\n",
    "elif not os.path.exists(users_file):\n",
    "    print(f\"Error: {users_file} does not exist.\")\n",
    "else:\n",
    "    try:\n",
    "        # Load cleaned CSVs into DataFrames\n",
    "        products_df = pd.read_csv(products_file)\n",
    "        transactions_df = pd.read_csv(transactions_file)\n",
    "        users_df = pd.read_csv(users_file)\n",
    "\n",
    "        # Check if any DataFrame is empty\n",
    "        if products_df.empty or transactions_df.empty or users_df.empty:\n",
    "            print(\"Warning: One or more of the CSV files are empty.\")\n",
    "        else:\n",
    "            # Save DataFrames to SQLite\n",
    "            products_df.to_sql(\"products\", conn, if_exists=\"replace\", index=False)\n",
    "            transactions_df.to_sql(\"transactions\", conn, if_exists=\"replace\", index=False)\n",
    "            users_df.to_sql(\"users\", conn, if_exists=\"replace\", index=False)\n",
    "\n",
    "            print(\"Data successfully loaded into SQLite database.\")\n",
    "            \n",
    "            # Verify that data has been loaded correctly by querying the tables\n",
    "            products_count = cursor.execute(\"SELECT COUNT(*) FROM products\").fetchone()[0]\n",
    "            transactions_count = cursor.execute(\"SELECT COUNT(*) FROM transactions\").fetchone()[0]\n",
    "            users_count = cursor.execute(\"SELECT COUNT(*) FROM users\").fetchone()[0]\n",
    "\n",
    "            print(f\"Products table contains {products_count} records.\")\n",
    "            print(f\"Transactions table contains {transactions_count} records.\")\n",
    "            print(f\"Users table contains {users_count} records.\")\n",
    "\n",
    "    except Exception as e:\n",
    "        print(f\"Error while loading data into SQLite: {e}\")\n",
    "    finally:\n",
    "        # Close the connection\n",
    "        conn.close()\n"
   ]
  },
  {
   "cell_type": "code",
   "execution_count": 12,
   "metadata": {
    "vscode": {
     "languageId": "sql"
    }
   },
   "outputs": [],
   "source": [
    "# connect to db\n",
    "conn = sqlite3.connect(\"fetch_data.db\")\n",
    "cursor = conn.cursor()"
   ]
  },
  {
   "cell_type": "code",
   "execution_count": 13,
   "metadata": {
    "vscode": {
     "languageId": "sql"
    }
   },
   "outputs": [
    {
     "name": "stdout",
     "output_type": "stream",
     "text": [
      "             BRAND  receipts_scanned\n",
      "0          Unknown                 6\n",
      "1      NERDS CANDY                 6\n",
      "2             DOVE                 6\n",
      "3          TRIDENT                 4\n",
      "4  SOUR PATCH KIDS                 4\n"
     ]
    }
   ],
   "source": [
    "\n",
    "# 1.a) What are the top 5 brands by receipts scanned among users 21 and over?\n",
    "query = \"\"\" \n",
    "SELECT p.BRAND, COUNT(t.RECEIPT_ID) AS receipts_scanned\n",
    "FROM transactions t\n",
    "JOIN users u ON t.USER_ID = u.ID\n",
    "JOIN products p ON t.BARCODE = p.BARCODE\n",
    "WHERE (strftime('%Y', 'now') - strftime('%Y', u.BIRTH_DATE)) >= 21\n",
    "GROUP BY p.BRAND\n",
    "ORDER BY receipts_scanned DESC\n",
    "LIMIT 5\n",
    "\"\"\"  \n",
    "\n",
    "result = pd.read_sql_query(query, conn)\n",
    "print(result)\n",
    "\n"
   ]
  },
  {
   "cell_type": "code",
   "execution_count": 14,
   "metadata": {
    "vscode": {
     "languageId": "sql"
    }
   },
   "outputs": [
    {
     "name": "stdout",
     "output_type": "stream",
     "text": [
      "         BRAND  total_sales\n",
      "0          CVS        72.00\n",
      "1      TRIDENT        46.72\n",
      "2         DOVE        42.88\n",
      "3  COORS LIGHT        34.96\n",
      "4      Unknown        16.65\n"
     ]
    }
   ],
   "source": [
    "# 1.b) What are the top 5 brands by sales among users that have had their account for at least six months?\n",
    "\n",
    "query = \"\"\" \n",
    "SELECT p.BRAND, SUM(t.FINAL_SALE) AS total_sales\n",
    "FROM transactions t\n",
    "JOIN users u ON t.USER_ID = u.ID\n",
    "JOIN products p ON t.BARCODE = p.BARCODE\n",
    "WHERE (strftime('%Y', 'now') - strftime('%Y', u.CREATED_DATE)) >= 0.5\n",
    "GROUP BY p.BRAND\n",
    "ORDER BY total_sales DESC\n",
    "LIMIT 5;\n",
    "\"\"\"  \n",
    "result = pd.read_sql_query(query, conn)\n",
    "print(result)\n"
   ]
  },
  {
   "cell_type": "code",
   "execution_count": 15,
   "metadata": {
    "vscode": {
     "languageId": "sql"
    }
   },
   "outputs": [
    {
     "name": "stdout",
     "output_type": "stream",
     "text": [
      "    generation  percentage_sales\n",
      "0      Boomers         35.213098\n",
      "1        Gen X         36.860304\n",
      "2  Millennials         36.376433\n"
     ]
    }
   ],
   "source": [
    "# 1.c) What is the percentage of sales in the Health & Wellness category by generation?\n",
    "\n",
    "query = \"\"\" \n",
    "SELECT\n",
    "    CASE\n",
    "        WHEN (strftime('%Y', 'now') - strftime('%Y', u.BIRTH_DATE)) BETWEEN 18 AND 25 THEN 'Gen Z'\n",
    "        WHEN (strftime('%Y', 'now') - strftime('%Y', u.BIRTH_DATE)) BETWEEN 26 AND 40 THEN 'Millennials'\n",
    "        WHEN (strftime('%Y', 'now') - strftime('%Y', u.BIRTH_DATE)) BETWEEN 41 AND 56 THEN 'Gen X'\n",
    "        ELSE 'Boomers'\n",
    "    END AS generation,\n",
    "    SUM(CASE WHEN p.CATEGORY_1 = 'Health & Wellness' THEN t.FINAL_SALE ELSE 0 END) / SUM(t.FINAL_SALE) * 100 AS percentage_sales\n",
    "FROM transactions t\n",
    "JOIN users u ON t.USER_ID = u.ID\n",
    "JOIN products p ON t.BARCODE = p.BARCODE\n",
    "GROUP BY generation;\n",
    "\"\"\"  \n",
    "\n",
    "result = pd.read_sql_query(query, conn)\n",
    "print(result)"
   ]
  },
  {
   "cell_type": "code",
   "execution_count": 16,
   "metadata": {
    "vscode": {
     "languageId": "sql"
    }
   },
   "outputs": [
    {
     "name": "stdout",
     "output_type": "stream",
     "text": [
      "                         ID  total_sales\n",
      "0  643059f0838dd2651fb27f50        75.99\n",
      "1  62ffec490d9dbaff18c0a999        52.28\n",
      "2  5f4c9055e81e6f162e3f6fa8        37.96\n",
      "3  5d191765c8b1ba28e74e8463        34.96\n",
      "4  6351760a3a4a3534d9393ecd        27.74\n",
      "5  64dd9170516348066e7c4006        26.52\n",
      "6  62c09104baa38d1a1f6c260e        20.28\n",
      "7  61a58ac49c135b462ccddd1c        19.92\n",
      "8  6661ed1e7c0469953bfc76c4        18.60\n",
      "9  5b441360be53340f289b0795        18.32\n"
     ]
    }
   ],
   "source": [
    "# 2.a) Who are Fetch’s power users?\n",
    "query = \"\"\" \n",
    "SELECT u.ID, SUM(t.FINAL_SALE) AS total_sales\n",
    "FROM transactions t\n",
    "JOIN users u ON t.USER_ID = u.ID\n",
    "GROUP BY u.ID\n",
    "ORDER BY total_sales DESC\n",
    "LIMIT 10;  -- Top 10 power users\n",
    "\"\"\"  \n",
    "\n",
    "result = pd.read_sql_query(query, conn)\n",
    "print(result)\n",
    "\n"
   ]
  },
  {
   "cell_type": "code",
   "execution_count": 17,
   "metadata": {
    "vscode": {
     "languageId": "sql"
    }
   },
   "outputs": [
    {
     "name": "stdout",
     "output_type": "stream",
     "text": [
      "      BRAND  total_sales\n",
      "0  TOSTITOS       260.99\n"
     ]
    }
   ],
   "source": [
    "#  2.b) Which is the leading brand in the Dips & Salsa category?\n",
    "query = \"\"\" \n",
    "SELECT p.BRAND, SUM(t.FINAL_SALE) AS total_sales\n",
    "FROM transactions t\n",
    "JOIN products p ON t.BARCODE = p.BARCODE\n",
    "WHERE p.CATEGORY_2 = 'Dips & Salsa'\n",
    "GROUP BY p.BRAND\n",
    "ORDER BY total_sales DESC\n",
    "LIMIT 1;\n",
    "\"\"\"  \n",
    "\n",
    "result = pd.read_sql_query(query, conn)\n",
    "print(result)\n",
    "\n"
   ]
  },
  {
   "cell_type": "code",
   "execution_count": 9,
   "metadata": {
    "vscode": {
     "languageId": "sql"
    }
   },
   "outputs": [
    {
     "name": "stdout",
     "output_type": "stream",
     "text": [
      "   current_year_sales  previous_year_sales  growth_percentage\n",
      "0                   0            171182.79             -100.0\n"
     ]
    }
   ],
   "source": [
    "#  1.c) At what percent has Fetch grown year over year?\n",
    "query = \"\"\" \n",
    "WITH current_year_sales AS (\n",
    "    SELECT COALESCE(SUM(t.FINAL_SALE), 0) AS total_sales\n",
    "    FROM transactions t\n",
    "    WHERE strftime('%Y', t.PURCHASE_DATE) = strftime('%Y', 'now')  -- Current year\n",
    "),\n",
    "previous_year_sales AS (\n",
    "    SELECT COALESCE(SUM(t.FINAL_SALE), 0) AS total_sales\n",
    "    FROM transactions t\n",
    "    WHERE strftime('%Y', t.PURCHASE_DATE) = strftime('%Y', 'now', '-1 year')  -- Previous year\n",
    ")\n",
    "SELECT \n",
    "    current_year_sales.total_sales AS current_year_sales,\n",
    "    previous_year_sales.total_sales AS previous_year_sales,\n",
    "    CASE \n",
    "        WHEN previous_year_sales.total_sales > 0 THEN \n",
    "            ((current_year_sales.total_sales - previous_year_sales.total_sales) / previous_year_sales.total_sales) * 100\n",
    "        ELSE\n",
    "            NULL  -- If no sales in previous year, return NULL for growth percentage\n",
    "    END AS growth_percentage\n",
    "FROM current_year_sales, previous_year_sales;\n",
    "\n",
    "\"\"\"  \n",
    "\n",
    "result = pd.read_sql_query(query, conn)\n",
    "print(result)\n",
    "\n"
   ]
  },
  {
   "cell_type": "code",
   "execution_count": 10,
   "metadata": {
    "vscode": {
     "languageId": "sql"
    }
   },
   "outputs": [
    {
     "name": "stdout",
     "output_type": "stream",
     "text": [
      "   previous_year_sales  two_years_ago_sales growth_percentage\n",
      "0            171182.79                    0              None\n"
     ]
    }
   ],
   "source": [
    "# -- becuse we don't have data for this year so we will compare the last year with the year before it.\n",
    "\n",
    "query = \"\"\"\n",
    "WITH previous_year_sales AS (\n",
    "    SELECT COALESCE(SUM(t.FINAL_SALE), 0) AS total_sales\n",
    "    FROM transactions t\n",
    "    WHERE strftime('%Y', t.PURCHASE_DATE) = strftime('%Y', 'now', '-1 year')  -- Previous year\n",
    "),\n",
    "two_years_ago_sales AS (\n",
    "    SELECT COALESCE(SUM(t.FINAL_SALE), 0) AS total_sales\n",
    "    FROM transactions t\n",
    "    WHERE strftime('%Y', t.PURCHASE_DATE) = strftime('%Y', 'now', '-2 years')  -- Two years ago\n",
    ")\n",
    "SELECT \n",
    "    previous_year_sales.total_sales AS previous_year_sales,\n",
    "    two_years_ago_sales.total_sales AS two_years_ago_sales,\n",
    "    CASE \n",
    "        WHEN two_years_ago_sales.total_sales > 0 THEN \n",
    "            ((previous_year_sales.total_sales - two_years_ago_sales.total_sales) / two_years_ago_sales.total_sales) * 100\n",
    "        ELSE\n",
    "            NULL  -- If no sales two years ago, return NULL for growth percentage\n",
    "    END AS growth_percentage\n",
    "FROM previous_year_sales, two_years_ago_sales;\n",
    "\n",
    "\"\"\"\n",
    "\n",
    "result = pd.read_sql_query(query, conn)\n",
    "print(result)\n"
   ]
  },
  {
   "cell_type": "code",
   "execution_count": 11,
   "metadata": {
    "vscode": {
     "languageId": "sql"
    }
   },
   "outputs": [],
   "source": [
    "# Close the connection\n",
    "conn.close()"
   ]
  }
 ],
 "metadata": {
  "kernelspec": {
   "display_name": "venv",
   "language": "python",
   "name": "python3"
  },
  "language_info": {
   "codemirror_mode": {
    "name": "ipython",
    "version": 3
   },
   "file_extension": ".py",
   "mimetype": "text/x-python",
   "name": "python",
   "nbconvert_exporter": "python",
   "pygments_lexer": "ipython3",
   "version": "3.10.0"
  }
 },
 "nbformat": 4,
 "nbformat_minor": 2
}
